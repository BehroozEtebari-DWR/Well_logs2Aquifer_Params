{
 "cells": [
  {
   "cell_type": "code",
   "execution_count": 1,
   "id": "2cf0be0d",
   "metadata": {},
   "outputs": [],
   "source": [
    "import os\n",
    "import glob\n",
    "import numpy as np\n",
    "import pandas as pd\n",
    "\n",
    "import geopandas as gpd\n",
    "from shapely.geometry import Point"
   ]
  },
  {
   "cell_type": "code",
   "execution_count": 2,
   "id": "1b7cf8f6",
   "metadata": {},
   "outputs": [
    {
     "name": "stdout",
     "output_type": "stream",
     "text": [
      "         ModIndex       UTMX       UTMY   Topo  IntvBegin  IntvEnd  GeophCT  \\\n",
      "0               1 -189077.59   85408.04  109.0       0.00     5.00     4.83   \n",
      "1               1 -189077.59   85408.04  109.0       5.00    10.00     4.66   \n",
      "2               1 -189077.59   85408.04  109.0      10.00    15.00     4.79   \n",
      "3               1 -189077.59   85408.04  109.0      15.00    21.00     5.76   \n",
      "4               1 -189077.59   85408.04  109.0      21.00    27.00     5.81   \n",
      "...           ...        ...        ...    ...        ...      ...      ...   \n",
      "6867902     37652    7576.27 -180182.39   64.5     234.24   268.54     0.03   \n",
      "6867903     37653    7603.90 -180163.55   64.5     234.24   268.54     2.62   \n",
      "6867904     37654    7631.19 -180144.38   64.5     234.24   268.54     6.20   \n",
      "6867905     37655    7658.25 -180124.52   64.5     234.24   268.54     6.67   \n",
      "6867906     37656    7685.33 -180104.06   64.5     234.24   268.54     8.32   \n",
      "\n",
      "         GeophCF   LINE_NO  \n",
      "0           96.6  411001.0  \n",
      "1           93.3  411001.0  \n",
      "2           95.7  411001.0  \n",
      "3           96.0  411001.0  \n",
      "4           96.8  411001.0  \n",
      "...          ...       ...  \n",
      "6867902      0.1       NaN  \n",
      "6867903      7.6       NaN  \n",
      "6867904     18.1       NaN  \n",
      "6867905     19.4       NaN  \n",
      "6867906     24.3       NaN  \n",
      "\n",
      "[6757306 rows x 9 columns]\n"
     ]
    }
   ],
   "source": [
    "# Directory containing the CSV files\n",
    "directory_path = r'C:\\Users\\betebari\\Documents\\C2VSim_Texture\\AEM supporting data\\coarse-Fractions'\n",
    "\n",
    "# Get a list of all CSV files in the directory starting with \"updated\"\n",
    "file_paths = glob.glob(os.path.join(directory_path, '*.csv'))\n",
    "\n",
    "# Initialize an empty list to collect DataFrames\n",
    "dataframes = []\n",
    "\n",
    "for file_path in file_paths:\n",
    "    try:\n",
    "        # Read the CSV file with low_memory=False to suppress DtypeWarning\n",
    "        df = pd.read_csv(file_path, encoding='latin1', low_memory=False)\n",
    "        \n",
    "        # Append the DataFrame to the list\n",
    "        dataframes.append(df)\n",
    "    except Exception as e:\n",
    "        print(f\"An error occurred while reading {file_path}: {e}\")\n",
    "\n",
    "# Concatenate all DataFrames in the list\n",
    "combined_df = pd.concat(dataframes, ignore_index=True)\n",
    "\n",
    "# Drop the specified columns\n",
    "combined_df = combined_df.drop(columns=['GeophCTstd  ','GeophCFstd','MeanRes', 'GeophCTstd', 'Upper'\\\n",
    "                   , 'Lower', 'LINE_NO_pa','geometry','Interval'], errors='ignore')\n",
    "\n",
    "# Drop rows where the GeophCF column has the value -9999 or NaN\n",
    "combined_df = combined_df[combined_df['GeophCF'].notna() & (combined_df['GeophCF'] != -9999)]\n",
    "\n",
    "# Multiply the GeophCF column by 100\n",
    "combined_df['GeophCF'] = combined_df['GeophCF'] * 100\n",
    "\n",
    "# Now the DataFrame has the renamed columns\n",
    "print(combined_df)"
   ]
  },
  {
   "cell_type": "code",
   "execution_count": 3,
   "id": "3b2e28c9",
   "metadata": {},
   "outputs": [],
   "source": [
    "# Unit Conversion meters to feet\n",
    "combined_df['GSE_ft'] = combined_df['Topo'] * 3.28084\n",
    "combined_df['INTERVALSTART'] = combined_df['IntvBegin'] * 3.28084\n",
    "combined_df['INTERVALEND'] = combined_df['IntvEnd'] * 3.28084"
   ]
  },
  {
   "cell_type": "code",
   "execution_count": 4,
   "id": "99868124",
   "metadata": {},
   "outputs": [],
   "source": [
    "# Drop specified columns\n",
    "combined_df = combined_df.drop(columns=['Topo','IntvBegin','IntvEnd'])"
   ]
  },
  {
   "cell_type": "code",
   "execution_count": 5,
   "id": "1dddcd3f",
   "metadata": {},
   "outputs": [],
   "source": [
    "# Rename column 'GeophCF' to 'CoarseFraction'\n",
    "combined_df = combined_df.rename(columns={'GeophCF': 'AverageCoarseFraction'})\n",
    "\n",
    "# Create the new 'WCRNUMBER' column by concatenating 'LINE_NO' and 'ModIndex' with a dash\n",
    "combined_df['WCRNUMBER'] = combined_df['LINE_NO'].astype(str) + '-' + combined_df['ModIndex'].astype(str)"
   ]
  },
  {
   "cell_type": "code",
   "execution_count": 6,
   "id": "82763f31",
   "metadata": {},
   "outputs": [
    {
     "name": "stderr",
     "output_type": "stream",
     "text": [
      "C:\\Users\\betebari\\AppData\\Local\\Temp\\ipykernel_6036\\2529310329.py:9: UserWarning: Column names longer than 10 characters will be truncated when saved to ESRI Shapefile.\n",
      "  combined_df.to_file('AEM_CF.shp', driver='ESRI Shapefile')\n"
     ]
    }
   ],
   "source": [
    "# Convert DataFrame to GeoDataFrame\n",
    "combined_df = gpd.GeoDataFrame(\n",
    "    combined_df,\n",
    "    geometry=gpd.points_from_xy(combined_df['UTMX'], combined_df['UTMY']),\n",
    "    crs=\"EPSG:3310\"  # Original CRS\n",
    ")\n",
    "\n",
    "# WCR's locations 2 shapefile\n",
    "combined_df.to_file('AEM_CF.shp', driver='ESRI Shapefile')"
   ]
  },
  {
   "cell_type": "code",
   "execution_count": 7,
   "id": "072222a9",
   "metadata": {},
   "outputs": [
    {
     "name": "stdout",
     "output_type": "stream",
     "text": [
      "         ModIndex           UTMX          UTMY  GeophCT  \\\n",
      "0               1  571371.691816  4.291036e+06     4.83   \n",
      "1               1  571371.691816  4.291036e+06     4.66   \n",
      "2               1  571371.691816  4.291036e+06     4.79   \n",
      "3               1  571371.691816  4.291036e+06     5.76   \n",
      "4               1  571371.691816  4.291036e+06     5.81   \n",
      "...           ...            ...           ...      ...   \n",
      "6867902     37652  776651.190378  4.032220e+06     0.03   \n",
      "6867903     37653  776678.278108  4.032240e+06     2.62   \n",
      "6867904     37654  776705.015078  4.032260e+06     6.20   \n",
      "6867905     37655  776731.500285  4.032281e+06     6.67   \n",
      "6867906     37656  776757.986906  4.032302e+06     8.32   \n",
      "\n",
      "         AverageCoarseFraction   LINE_NO     GSE_ft  INTERVALSTART  \\\n",
      "0                         96.6  411001.0  357.61156       0.000000   \n",
      "1                         93.3  411001.0  357.61156      16.404200   \n",
      "2                         95.7  411001.0  357.61156      32.808400   \n",
      "3                         96.0  411001.0  357.61156      49.212600   \n",
      "4                         96.8  411001.0  357.61156      68.897640   \n",
      "...                        ...       ...        ...            ...   \n",
      "6867902                    0.1       NaN  211.61418     768.503962   \n",
      "6867903                    7.6       NaN  211.61418     768.503962   \n",
      "6867904                   18.1       NaN  211.61418     768.503962   \n",
      "6867905                   19.4       NaN  211.61418     768.503962   \n",
      "6867906                   24.3       NaN  211.61418     768.503962   \n",
      "\n",
      "         INTERVALEND   WCRNUMBER                        geometry  \n",
      "0          16.404200  411001.0-1  POINT (571371.692 4291035.565)  \n",
      "1          32.808400  411001.0-1  POINT (571371.692 4291035.565)  \n",
      "2          49.212600  411001.0-1  POINT (571371.692 4291035.565)  \n",
      "3          68.897640  411001.0-1  POINT (571371.692 4291035.565)  \n",
      "4          88.582680  411001.0-1  POINT (571371.692 4291035.565)  \n",
      "...              ...         ...                             ...  \n",
      "6867902   881.036774   nan-37652  POINT (776651.190 4032220.376)  \n",
      "6867903   881.036774   nan-37653  POINT (776678.278 4032240.049)  \n",
      "6867904   881.036774   nan-37654  POINT (776705.015 4032260.042)  \n",
      "6867905   881.036774   nan-37655  POINT (776731.500 4032280.716)  \n",
      "6867906   881.036774   nan-37656  POINT (776757.987 4032301.990)  \n",
      "\n",
      "[6757306 rows x 11 columns]\n"
     ]
    },
    {
     "name": "stderr",
     "output_type": "stream",
     "text": [
      "C:\\Users\\betebari\\AppData\\Local\\Temp\\ipykernel_6036\\2095885972.py:12: UserWarning: Column names longer than 10 characters will be truncated when saved to ESRI Shapefile.\n",
      "  gdf_AEM_CF.to_file(\"AEM_CF_26910.shp\")\n"
     ]
    }
   ],
   "source": [
    "# Reproject to EPSG:26910\n",
    "gdf_AEM_CF = combined_df.to_crs(\"EPSG:26910\")\n",
    "\n",
    "# Extract UTM X and Y coordinates from the geometry column\n",
    "gdf_AEM_CF['UTMX'] = gdf_AEM_CF.geometry.x\n",
    "gdf_AEM_CF['UTMY'] = gdf_AEM_CF.geometry.y\n",
    "\n",
    "# Save or use the reprojected GeoDataFrame\n",
    "print(gdf_AEM_CF)\n",
    "\n",
    "# Optionally save the reprojected GeoDataFrame to a new file\n",
    "gdf_AEM_CF.to_file(\"AEM_CF_26910.shp\")"
   ]
  },
  {
   "cell_type": "code",
   "execution_count": 8,
   "id": "2a89f38e-918c-4314-8284-dd67fe6b668f",
   "metadata": {},
   "outputs": [
    {
     "name": "stdout",
     "output_type": "stream",
     "text": [
      "Clipping complete. Clipped shapefile saved as 'AEM_CF_Clipped.shp'\n"
     ]
    }
   ],
   "source": [
    "# Load the aquifer boundary shapefile\n",
    "aquifer_boundary = gpd.read_file(\"C:/Users/betebari/Documents/C2VSim_Texture/OSWCR/central_val_buf_5mil_utm10n.shp\")\n",
    "\n",
    "# Load the shapefile to be clipped (AEM_CF_26910.shp)\n",
    "gdf_AEM_CF = gpd.read_file(\"AEM_CF_26910.shp\")\n",
    "\n",
    "# Ensure both GeoDataFrames have the same CRS (coordinate reference system)\n",
    "if aquifer_boundary.crs != gdf_AEM_CF.crs:\n",
    "    gdf_AEM_CF = gdf_AEM_CF.to_crs(aquifer_boundary.crs)\n",
    "\n",
    "# Clip the AEM_CF shapefile with the aquifer boundary\n",
    "clipped_gdf = gpd.clip(gdf_AEM_CF, aquifer_boundary)\n",
    "\n",
    "# Save the clipped GeoDataFrame to a new shapefile\n",
    "clipped_gdf.to_file(\"AEM_CF_Clipped.shp\")\n",
    "\n",
    "print(\"Clipping complete. Clipped shapefile saved as 'AEM_CF_Clipped.shp'\")"
   ]
  },
  {
   "cell_type": "code",
   "execution_count": 9,
   "id": "8cc9b696-c3f0-4525-b048-8df25dbecd21",
   "metadata": {},
   "outputs": [
    {
     "name": "stdout",
     "output_type": "stream",
     "text": [
      "         ModIndex           UTMX          UTMY  GeophCT  \\\n",
      "4289099      1548  870836.066828  3.870833e+06    18.72   \n",
      "4030928      1548  870836.066828  3.870833e+06     6.99   \n",
      "3498922      1548  870836.066828  3.870833e+06     0.01   \n",
      "3605668      1548  870836.066828  3.870833e+06     0.01   \n",
      "3978113      1548  870836.066828  3.870833e+06     4.66   \n",
      "...           ...            ...           ...      ...   \n",
      "1549349     78718  570624.467431  4.500909e+06     5.07   \n",
      "1549348     78718  570624.467431  4.500909e+06     2.74   \n",
      "1549347     78718  570624.467431  4.500909e+06     1.63   \n",
      "1549346     78718  570624.467431  4.500909e+06     1.16   \n",
      "1549356     78718  570624.467431  4.500909e+06    10.55   \n",
      "\n",
      "         AverageCoarseFraction   LINE_NO       GSE_ft  INTERVALSTART  \\\n",
      "4289099                   80.4       NaN  3508.530296     506.299229   \n",
      "4030928                   57.3       NaN  3508.530296     242.749352   \n",
      "3498922                    0.1       NaN  3508.530296      16.404200   \n",
      "3605668                    0.1       NaN  3508.530296      49.212600   \n",
      "3978113                   43.5       NaN  3508.530296     207.578747   \n",
      "...                        ...       ...          ...            ...   \n",
      "1549349                   84.6  490401.0   830.380604      49.212600   \n",
      "1549348                   54.9  490401.0   830.380604      32.808400   \n",
      "1549347                   32.6  490401.0   830.380604      16.404200   \n",
      "1549346                   23.1  490401.0   830.380604       0.000000   \n",
      "1549356                   98.4  490401.0   830.380604     207.578747   \n",
      "\n",
      "         INTERVALEND       WCRNUMBER                        geometry  \n",
      "4289099   582.677184        nan-1548  POINT (870836.067 3870833.306)  \n",
      "4030928   282.775600        nan-1548  POINT (870836.067 3870833.306)  \n",
      "3498922    32.808400        nan-1548  POINT (870836.067 3870833.306)  \n",
      "3605668    68.897640        nan-1548  POINT (870836.067 3870833.306)  \n",
      "3978113   242.749352        nan-1548  POINT (870836.067 3870833.306)  \n",
      "...              ...             ...                             ...  \n",
      "1549349    68.897640  490401.0-78718  POINT (570624.467 4500909.311)  \n",
      "1549348    49.212600  490401.0-78718  POINT (570624.467 4500909.311)  \n",
      "1549347    32.808400  490401.0-78718  POINT (570624.467 4500909.311)  \n",
      "1549346    16.404200  490401.0-78718  POINT (570624.467 4500909.311)  \n",
      "1549356   242.749352  490401.0-78718  POINT (570624.467 4500909.311)  \n",
      "\n",
      "[6738897 rows x 11 columns]\n"
     ]
    }
   ],
   "source": [
    "# Rename column 'GeophCF' to 'CoarseFraction'\n",
    "clipped_gdf = clipped_gdf.rename(columns={'AverageCoa': 'AverageCoarseFraction'})\n",
    "clipped_gdf = clipped_gdf.rename(columns={'INTERVALST': 'INTERVALSTART'})\n",
    "clipped_gdf = clipped_gdf.rename(columns={'INTERVALEN': 'INTERVALEND'})\n",
    "\n",
    "print(clipped_gdf)"
   ]
  },
  {
   "cell_type": "code",
   "execution_count": null,
   "id": "7cfb5ac3-1bf2-48b3-8da5-090b859b3f8c",
   "metadata": {},
   "outputs": [],
   "source": [
    "# The table provided as a DataFrame for mapping purposes\n",
    "coarse_fraction_table = pd.DataFrame({\n",
    "    'Coarse Fraction Range': [10, 20, 30, 40, 50, 60, 70, 80, 90, 100],\n",
    "    'Average Hydraulic Conductivity (ft/day)': [0.136152327, 2.134365227, 13.42049058, 34.51476016, 87.73306091, \n",
    "                                                111.1681744, 124.2637375, 92.77831111, 13.80333333, 13.80333333],\n",
    "    'Avg Specific Yield (%)': [6.538461538, 7.71875, 7, 11.75, 11.83333333, \n",
    "                               18.625, 17, 20, 18, 15],\n",
    "    'Avg Kv (ft/day)': [0.0020002, 0.0050005, 0.02750275, 0.050005, 0.050005, \n",
    "                        0.350035, 0.4252675, 0.5005, 0.5005, 0.5005]\n",
    "})\n",
    "\n",
    "# Assuming clipped_gdf already contains 'AverageCoarseFraction'\n",
    "# We will interpolate the values based on 'AverageCoarseFraction'\n",
    "\n",
    "def interpolate_values(row):\n",
    "    coarse_fraction = row['AverageCoarseFraction']\n",
    "    \n",
    "    # Interpolate for each of the columns based on coarse fraction\n",
    "    avg_k = np.interp(coarse_fraction, coarse_fraction_table['Coarse Fraction Range'], \n",
    "                      coarse_fraction_table['Average Hydraulic Conductivity (ft/day)'])\n",
    "    \n",
    "    avg_sy = np.interp(coarse_fraction, coarse_fraction_table['Coarse Fraction Range'], \n",
    "                       coarse_fraction_table['Avg Specific Yield (%)'])\n",
    "    \n",
    "    avg_kv = np.interp(coarse_fraction, coarse_fraction_table['Coarse Fraction Range'], \n",
    "                       coarse_fraction_table['Avg Kv (ft/day)'])\n",
    "    \n",
    "    return pd.Series([avg_k, avg_sy, avg_kv], \n",
    "                     index=['Average Hydraulic Conductivity (ft/day)', 'Avg Specific Yield (%)', 'Avg Kv (ft/day)'])\n",
    "\n",
    "# Apply the interpolation to each row in clipped_gdf\n",
    "clipped_gdf[['Average Hydraulic Conductivity (ft/day)', 'Avg Specific Yield (%)', 'Avg Kv (ft/day)']] = clipped_gdf.apply(interpolate_values, axis=1)\n",
    "\n",
    "# Now your clipped_gdf will have interpolated values for Hydraulic Conductivity, Specific Yield, and Kv\n",
    "print(clipped_gdf[['Average Hydraulic Conductivity (ft/day)', 'Avg Specific Yield (%)', 'Avg Kv (ft/day)']])\n"
   ]
  },
  {
   "cell_type": "code",
   "execution_count": null,
   "id": "ffbdee05-58ce-47e7-a8e6-e3b7c07d058c",
   "metadata": {},
   "outputs": [],
   "source": [
    "# Get the number of unique values in the 'WCRNUMBER' column\n",
    "unique_ModIndex_count = clipped_gdf['WCRNUMBER'].nunique()\n",
    "print(f\"Number of unique WCRNUMBER values: {unique_ModIndex_count}\")\n",
    "print(clipped_gdf)"
   ]
  },
  {
   "cell_type": "code",
   "execution_count": null,
   "id": "56e336ad-7c7c-4cd4-ad8b-b202957c30c0",
   "metadata": {},
   "outputs": [],
   "source": [
    "# Drop specified columns\n",
    "clipped_gdf = clipped_gdf.drop(columns=['geometry'])"
   ]
  },
  {
   "cell_type": "code",
   "execution_count": null,
   "id": "ea65c52e",
   "metadata": {},
   "outputs": [],
   "source": [
    "# Save the updated DataFrame to a new CSV file\n",
    "output_file = 'C:/Users/betebari/Documents/C2VSim_Texture/OSWCR/7-updated_AEM_CF.csv'\n",
    "clipped_gdf.to_csv(output_file, index=False)\n",
    "\n",
    "print(f\"combined CSV file saved as '{output_file}'\")"
   ]
  },
  {
   "cell_type": "code",
   "execution_count": null,
   "id": "bee523e9",
   "metadata": {},
   "outputs": [],
   "source": []
  }
 ],
 "metadata": {
  "kernelspec": {
   "display_name": "Python 3 (ipykernel)",
   "language": "python",
   "name": "python3"
  },
  "language_info": {
   "codemirror_mode": {
    "name": "ipython",
    "version": 3
   },
   "file_extension": ".py",
   "mimetype": "text/x-python",
   "name": "python",
   "nbconvert_exporter": "python",
   "pygments_lexer": "ipython3",
   "version": "3.11.5"
  }
 },
 "nbformat": 4,
 "nbformat_minor": 5
}
