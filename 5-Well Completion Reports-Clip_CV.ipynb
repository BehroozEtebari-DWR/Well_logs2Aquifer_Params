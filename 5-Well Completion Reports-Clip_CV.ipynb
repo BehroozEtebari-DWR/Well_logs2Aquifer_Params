{
 "cells": [
  {
   "cell_type": "code",
   "execution_count": 1,
   "metadata": {},
   "outputs": [],
   "source": [
    "%matplotlib inline\n",
    "import os\n",
    "import csv\n",
    "import pandas as pd\n",
    "import numpy as np\n",
    "import geopandas as gpd\n",
    "import matplotlib.pyplot as plt\n",
    "from shapely.geometry import Point\n",
    "from geopandas import datasets, GeoDataFrame, read_file\n",
    "import urllib.request"
   ]
  },
  {
   "cell_type": "markdown",
   "metadata": {},
   "source": [
    "# import Well Location(geospatial info) csv files as Pandas dataframes"
   ]
  },
  {
   "cell_type": "code",
   "execution_count": 2,
   "metadata": {},
   "outputs": [
    {
     "name": "stdout",
     "output_type": "stream",
     "text": [
      "    WCRNUMBER  DECIMALLATITUDE  DECIMALLONGITUDE\n",
      "0  WCR0234241          37.8432          -122.270\n",
      "1  WCR0233981          37.4761          -121.877\n",
      "2  WCR0007749          37.6585          -122.125\n",
      "3  WCR0011321          37.5133          -122.015\n",
      "4  WCR0004356          37.6727          -121.905\n",
      "    WCRNUMBER  DECIMALLATITUDE  DECIMALLONGITUDE\n",
      "0  WCR0234241          37.8432          -122.270\n",
      "1  WCR0233981          37.4761          -121.877\n",
      "2  WCR0007749          37.6585          -122.125\n",
      "3  WCR0011321          37.5133          -122.015\n",
      "4  WCR0004356          37.6727          -121.905\n"
     ]
    }
   ],
   "source": [
    "# Specify the columns you want to read\n",
    "columns_to_read = ['WCRNUMBER', 'DECIMALLATITUDE', 'DECIMALLONGITUDE']\n",
    "\n",
    "try:\n",
    "    # Read CSV file with specified columns\n",
    "    df1 = pd.read_csv(\"wellcompletionreports.csv\", usecols=columns_to_read)\n",
    "    \n",
    "    # Display the first few rows to verify\n",
    "    print(df1.head())\n",
    "except FileNotFoundError:\n",
    "    print(\"File not found.\")\n",
    "except Exception as e:\n",
    "    print(f\"Error: {e}\")\n",
    "\n",
    "# Function to format the decimal places safely\n",
    "def format_six_decimal_places(x):\n",
    "    try:\n",
    "        return round(float(x), 6)\n",
    "    except (ValueError, TypeError):\n",
    "        return x\n",
    "\n",
    "# Format the DECIMALLATITUDE and DECIMALLONGITUDE columns\n",
    "df1['DECIMALLATITUDE'] = df1['DECIMALLATITUDE'].apply(format_six_decimal_places)\n",
    "df1['DECIMALLONGITUDE'] = df1['DECIMALLONGITUDE'].apply(format_six_decimal_places)\n",
    "\n",
    "# Display the first few rows to confirm the formatting\n",
    "print(df1.head())"
   ]
  },
  {
   "cell_type": "markdown",
   "metadata": {},
   "source": [
    "## Convert '/' character to decimal character\n",
    "# i.e. \n",
    "# 37/41/13.06/  \n",
    "# to 37+41 \n",
    "# divide by /60 \n",
    "# +\n",
    "# 13.06 \n",
    "# divide by 3600"
   ]
  },
  {
   "cell_type": "code",
   "execution_count": 3,
   "metadata": {},
   "outputs": [],
   "source": [
    "def convert_latitude(lat):\n",
    "    if isinstance(lat, str) and '/' in lat:\n",
    "        lat_parts = lat.split('/')[:-1]  # Exclude the last element\n",
    "        try:\n",
    "            degrees, minutes, seconds = map(float, lat_parts)\n",
    "            decimal_lat = degrees + (minutes / 60) + (seconds / 3600)\n",
    "            return decimal_lat\n",
    "        except ValueError:\n",
    "            return None\n",
    "    else:\n",
    "        try:\n",
    "            return float(lat)\n",
    "        except (ValueError, TypeError):\n",
    "            return None\n",
    "\n",
    "def convert_longitude(lon):\n",
    "    if isinstance(lon, str) and '/' in lon:\n",
    "        lon_parts = lon.split('/')[:-1]  # Exclude the last element\n",
    "        try:\n",
    "            degrees, minutes, seconds = map(float, lon_parts)\n",
    "            decimal_lon = degrees + (minutes / 60) + (seconds / 3600)\n",
    "            return decimal_lon\n",
    "        except ValueError:\n",
    "            return None\n",
    "    else:\n",
    "        try:\n",
    "            return float(lon)\n",
    "        except (ValueError, TypeError):\n",
    "            return None"
   ]
  },
  {
   "cell_type": "code",
   "execution_count": 4,
   "metadata": {},
   "outputs": [],
   "source": [
    "df1['Decimal_Latitude'] = df1['DECIMALLATITUDE'].apply(convert_latitude)\n",
    "df1['Decimal_Longitude'] = df1['DECIMALLONGITUDE'].apply(convert_longitude)"
   ]
  },
  {
   "cell_type": "code",
   "execution_count": 5,
   "metadata": {},
   "outputs": [],
   "source": [
    "df1 = df1.dropna(subset=['DECIMALLONGITUDE','DECIMALLATITUDE'])"
   ]
  },
  {
   "cell_type": "code",
   "execution_count": 6,
   "metadata": {},
   "outputs": [
    {
     "name": "stdout",
     "output_type": "stream",
     "text": [
      "              WCRNUMBER  DECIMALLATITUDE  DECIMALLONGITUDE  Decimal_Latitude  \\\n",
      "0            WCR0234241        37.843200       -122.270000         37.843200   \n",
      "1            WCR0233981        37.476100       -121.877000         37.476100   \n",
      "2            WCR0007749        37.658500       -122.125000         37.658500   \n",
      "3            WCR0011321        37.513300       -122.015000         37.513300   \n",
      "4            WCR0004356        37.672700       -121.905000         37.672700   \n",
      "...                 ...              ...               ...               ...   \n",
      "1081361  WCR2015-013869        38.848056       -121.497778         38.848056   \n",
      "1081362  WCR2016-017630        37.506593       -121.935042         37.506593   \n",
      "1081365  WCR2014-014803        38.159722       -121.368056         38.159722   \n",
      "1081366  WCR2016-008979        38.996667       -120.841944         38.996667   \n",
      "1081372  WCR2015-010692        37.768014       -121.308250         37.768014   \n",
      "\n",
      "         Decimal_Longitude  \n",
      "0              -122.270000  \n",
      "1              -121.877000  \n",
      "2              -122.125000  \n",
      "3              -122.015000  \n",
      "4              -121.905000  \n",
      "...                    ...  \n",
      "1081361        -121.497778  \n",
      "1081362        -121.935042  \n",
      "1081365        -121.368056  \n",
      "1081366        -120.841944  \n",
      "1081372        -121.308250  \n",
      "\n",
      "[1026274 rows x 5 columns]\n"
     ]
    }
   ],
   "source": [
    "print(df1)"
   ]
  },
  {
   "cell_type": "code",
   "execution_count": 7,
   "metadata": {},
   "outputs": [],
   "source": [
    "df1 = df1.dropna(how='all')"
   ]
  },
  {
   "cell_type": "markdown",
   "metadata": {},
   "source": [
    "#only the Central Valley Stations are needed"
   ]
  },
  {
   "cell_type": "code",
   "execution_count": 8,
   "metadata": {},
   "outputs": [],
   "source": [
    "aquifer_boundary = gpd.read_file('central_val_buf_5mil_wgs84.shp')"
   ]
  },
  {
   "cell_type": "code",
   "execution_count": 9,
   "metadata": {},
   "outputs": [
    {
     "data": {
      "text/plain": [
       "<Geographic 2D CRS: EPSG:4326>\n",
       "Name: WGS 84\n",
       "Axis Info [ellipsoidal]:\n",
       "- Lat[north]: Geodetic latitude (degree)\n",
       "- Lon[east]: Geodetic longitude (degree)\n",
       "Area of Use:\n",
       "- name: World.\n",
       "- bounds: (-180.0, -90.0, 180.0, 90.0)\n",
       "Datum: World Geodetic System 1984 ensemble\n",
       "- Ellipsoid: WGS 84\n",
       "- Prime Meridian: Greenwich"
      ]
     },
     "execution_count": 9,
     "metadata": {},
     "output_type": "execute_result"
    }
   ],
   "source": [
    "aquifer_boundary.plot()\n",
    "aquifer_boundary.crs"
   ]
  },
  {
   "cell_type": "code",
   "execution_count": 10,
   "metadata": {},
   "outputs": [],
   "source": [
    "# WCR's locations into a geo-dataframe\n",
    "WCR_CA = gpd.GeoDataFrame(\n",
    "    df1, geometry=gpd.points_from_xy(df1.Decimal_Longitude, df1.Decimal_Latitude))"
   ]
  },
  {
   "cell_type": "code",
   "execution_count": 11,
   "metadata": {},
   "outputs": [
    {
     "name": "stderr",
     "output_type": "stream",
     "text": [
      "C:\\Users\\betebari\\AppData\\Local\\anaconda3\\Lib\\site-packages\\pyproj\\crs\\crs.py:141: FutureWarning: '+init=<authority>:<code>' syntax is deprecated. '<authority>:<code>' is the preferred initialization method. When making the change, be mindful of axis order changes: https://pyproj4.github.io/pyproj/stable/gotchas.html#axis-order-changes-in-proj-6\n",
      "  in_crs_string = _prepare_from_proj_string(in_crs_string)\n"
     ]
    }
   ],
   "source": [
    "# WCR's locations ESPG\n",
    "WCR_CA.crs = {'init': 'epsg:4326'}"
   ]
  },
  {
   "cell_type": "code",
   "execution_count": 12,
   "metadata": {},
   "outputs": [
    {
     "name": "stderr",
     "output_type": "stream",
     "text": [
      "C:\\Users\\betebari\\AppData\\Local\\Temp\\ipykernel_27480\\1802922466.py:2: UserWarning: Column names longer than 10 characters will be truncated when saved to ESRI Shapefile.\n",
      "  WCR_CA.to_file('WCR_CA.shp', driver='ESRI Shapefile')\n"
     ]
    },
    {
     "data": {
      "text/plain": [
       "<Geographic 2D CRS: +init=epsg:4326 +type=crs>\n",
       "Name: WGS 84\n",
       "Axis Info [ellipsoidal]:\n",
       "- lon[east]: Longitude (degree)\n",
       "- lat[north]: Latitude (degree)\n",
       "Area of Use:\n",
       "- name: World.\n",
       "- bounds: (-180.0, -90.0, 180.0, 90.0)\n",
       "Datum: World Geodetic System 1984 ensemble\n",
       "- Ellipsoid: WGS 84\n",
       "- Prime Meridian: Greenwich"
      ]
     },
     "execution_count": 12,
     "metadata": {},
     "output_type": "execute_result"
    }
   ],
   "source": [
    "# WCR's locations 2 shapefile\n",
    "WCR_CA.to_file('WCR_CA.shp', driver='ESRI Shapefile')\n",
    "WCR_CA.crs"
   ]
  },
  {
   "cell_type": "code",
   "execution_count": 13,
   "metadata": {},
   "outputs": [],
   "source": [
    "WCR_CA = gpd.read_file('WCR_CA.shp')"
   ]
  },
  {
   "cell_type": "code",
   "execution_count": 14,
   "metadata": {},
   "outputs": [
    {
     "data": {
      "text/plain": [
       "(342652, 6)"
      ]
     },
     "execution_count": 14,
     "metadata": {},
     "output_type": "execute_result"
    }
   ],
   "source": [
    "klip = gpd.clip(WCR_CA, aquifer_boundary)\n",
    "klip.shape"
   ]
  },
  {
   "cell_type": "code",
   "execution_count": 15,
   "metadata": {},
   "outputs": [
    {
     "name": "stdout",
     "output_type": "stream",
     "text": [
      "         WCRNUMBER  DECIMALLAT  DECIMALLON  Decimal_La  Decimal_Lo  \\\n",
      "209910  WCR0124101     34.8399    -118.916     34.8399    -118.916   \n",
      "200754  WCR0050844     34.8399    -118.916     34.8399    -118.916   \n",
      "213276  WCR0021028     34.8399    -118.916     34.8399    -118.916   \n",
      "213865  WCR0289261     34.8399    -118.916     34.8399    -118.916   \n",
      "202105  WCR0151370     34.8399    -118.916     34.8399    -118.916   \n",
      "\n",
      "                              geometry           UTMX          UTMY  \n",
      "209910  POINT (873506.922 3862901.262)  873506.921762  3.862901e+06  \n",
      "200754  POINT (873506.922 3862901.262)  873506.921762  3.862901e+06  \n",
      "213276  POINT (873506.922 3862901.262)  873506.921762  3.862901e+06  \n",
      "213865  POINT (873506.922 3862901.262)  873506.921762  3.862901e+06  \n",
      "202105  POINT (873506.922 3862901.262)  873506.921762  3.862901e+06  \n"
     ]
    }
   ],
   "source": [
    "# Reproject the GeoDataFrame to EPSG 26910\n",
    "reprojected_gdf = klip.to_crs(epsg=26910)\n",
    "\n",
    "# Add X and Y coordinates to the GeoDataFrame\n",
    "reprojected_gdf['UTMX'] = reprojected_gdf.geometry.x\n",
    "reprojected_gdf['UTMY'] = reprojected_gdf.geometry.y\n",
    "\n",
    "# Check and filter out invalid coordinate values\n",
    "valid_gdf = reprojected_gdf[\n",
    "    reprojected_gdf['UTMX'].apply(pd.api.types.is_number) &\n",
    "    reprojected_gdf['UTMY'].apply(pd.api.types.is_number) &\n",
    "    reprojected_gdf['UTMX'].notna() &\n",
    "    reprojected_gdf['UTMY'].notna()\n",
    "]\n",
    "\n",
    "# Ensure the GeoDataFrame is not empty\n",
    "if valid_gdf.empty:\n",
    "    raise ValueError(\"All records have invalid coordinate values.\")\n",
    "\n",
    "# Assign the valid GeoDataFrame to df1\n",
    "df1 = valid_gdf\n",
    "\n",
    "# Print the GeoDataFrame to verify\n",
    "print(df1.head())\n",
    "\n",
    "# Save the valid GeoDataFrame to a new shapefile\n",
    "valid_gdf.to_file(\"Reprojected_Valid.shp\")"
   ]
  },
  {
   "cell_type": "code",
   "execution_count": 16,
   "metadata": {
    "scrolled": true
   },
   "outputs": [
    {
     "data": {
      "image/png": "[encoded data removed]",
      "text/plain": [
       "<Figure size 640x480 with 1 Axes>"
      ]
     },
     "metadata": {},
     "output_type": "display_data"
    },
    {
     "data": {
      "image/png": "[encoded data removed]",
      "text/plain": [
       "<Figure size 2000x2000 with 1 Axes>"
      ]
     },
     "metadata": {},
     "output_type": "display_data"
    }
   ],
   "source": [
    "ax = aquifer_boundary.plot(figsize=(20, 20),color='white', edgecolor='blue')\n",
    "# We can now plot our ``GeoDataFrame``.\n",
    "df1.plot(figsize=(20, 20),ax=ax, color='red')\n",
    "plt.show()"
   ]
  },
  {
   "cell_type": "code",
   "execution_count": 17,
   "metadata": {},
   "outputs": [],
   "source": [
    "df2 = pd.DataFrame(df1, copy=True)"
   ]
  },
  {
   "cell_type": "markdown",
   "metadata": {},
   "source": [
    "#join two table of water levels and stations"
   ]
  },
  {
   "cell_type": "code",
   "execution_count": 18,
   "metadata": {},
   "outputs": [],
   "source": [
    "df2.to_csv('OSWCRgeospatial_central_valley.csv')"
   ]
  },
  {
   "cell_type": "markdown",
   "metadata": {},
   "source": [
    "# export Clip's attribute tabe to csv file"
   ]
  },
  {
   "cell_type": "markdown",
   "metadata": {},
   "source": []
  },
  {
   "cell_type": "code",
   "execution_count": 19,
   "metadata": {},
   "outputs": [],
   "source": [
    "# Vlookup lat-longs from original dataframe, since lattude and longitudes were rounded to the nearest\n",
    "# 3 or 4 decimal places"
   ]
  },
  {
   "cell_type": "code",
   "execution_count": 20,
   "metadata": {},
   "outputs": [
    {
     "name": "stdout",
     "output_type": "stream",
     "text": [
      "             WCRNUMBER           UTMX          UTMY\n",
      "209910      WCR0124101  873506.921762  3.862901e+06\n",
      "200754      WCR0050844  873506.921762  3.862901e+06\n",
      "213276      WCR0021028  873506.921762  3.862901e+06\n",
      "213865      WCR0289261  873506.921762  3.862901e+06\n",
      "202105      WCR0151370  873506.921762  3.862901e+06\n",
      "...                ...            ...           ...\n",
      "813510  WCR1999-009058  556817.687483  4.510712e+06\n",
      "826682  WCR2006-007563  564837.996223  4.510789e+06\n",
      "825319  WCR2007-008885  564837.996223  4.510789e+06\n",
      "825035  WCR2007-008884  564837.996223  4.510789e+06\n",
      "813991  WCR2007-008886  564837.996223  4.510789e+06\n",
      "\n",
      "[342652 rows x 3 columns]\n"
     ]
    }
   ],
   "source": [
    "# List of columns to drop\n",
    "columns_to_drop = ['DECIMALLAT', 'DECIMALLON', 'Decimal_La', 'Decimal_Lo', 'geometry']\n",
    "\n",
    "# Drop the columns from df2\n",
    "df2 = df2.drop(columns=columns_to_drop)\n",
    "\n",
    "# Display the modified dataframe\n",
    "print(df2)"
   ]
  },
  {
   "cell_type": "code",
   "execution_count": 21,
   "metadata": {},
   "outputs": [
    {
     "name": "stdout",
     "output_type": "stream",
     "text": [
      "DataFrame 1:\n",
      "              WCRNUMBER  DECIMALLAT  DECIMALLON  Decimal_La  Decimal_Lo  \\\n",
      "209910      WCR0124101     34.8399    -118.916     34.8399    -118.916   \n",
      "200754      WCR0050844     34.8399    -118.916     34.8399    -118.916   \n",
      "213276      WCR0021028     34.8399    -118.916     34.8399    -118.916   \n",
      "213865      WCR0289261     34.8399    -118.916     34.8399    -118.916   \n",
      "202105      WCR0151370     34.8399    -118.916     34.8399    -118.916   \n",
      "...                ...         ...         ...         ...         ...   \n",
      "813510  WCR1999-009058     40.7454    -122.327     40.7454    -122.327   \n",
      "826682  WCR2006-007563     40.7455    -122.232     40.7455    -122.232   \n",
      "825319  WCR2007-008885     40.7455    -122.232     40.7455    -122.232   \n",
      "825035  WCR2007-008884     40.7455    -122.232     40.7455    -122.232   \n",
      "813991  WCR2007-008886     40.7455    -122.232     40.7455    -122.232   \n",
      "\n",
      "                              geometry           UTMX          UTMY  \n",
      "209910  POINT (873506.922 3862901.262)  873506.921762  3.862901e+06  \n",
      "200754  POINT (873506.922 3862901.262)  873506.921762  3.862901e+06  \n",
      "213276  POINT (873506.922 3862901.262)  873506.921762  3.862901e+06  \n",
      "213865  POINT (873506.922 3862901.262)  873506.921762  3.862901e+06  \n",
      "202105  POINT (873506.922 3862901.262)  873506.921762  3.862901e+06  \n",
      "...                                ...            ...           ...  \n",
      "813510  POINT (556817.687 4510712.407)  556817.687483  4.510712e+06  \n",
      "826682  POINT (564837.996 4510789.394)  564837.996223  4.510789e+06  \n",
      "825319  POINT (564837.996 4510789.394)  564837.996223  4.510789e+06  \n",
      "825035  POINT (564837.996 4510789.394)  564837.996223  4.510789e+06  \n",
      "813991  POINT (564837.996 4510789.394)  564837.996223  4.510789e+06  \n",
      "\n",
      "[342652 rows x 8 columns]\n",
      "\n",
      "DataFrame 2:\n",
      "              WCRNUMBER           UTMX          UTMY\n",
      "209910      WCR0124101  873506.921762  3.862901e+06\n",
      "200754      WCR0050844  873506.921762  3.862901e+06\n",
      "213276      WCR0021028  873506.921762  3.862901e+06\n",
      "213865      WCR0289261  873506.921762  3.862901e+06\n",
      "202105      WCR0151370  873506.921762  3.862901e+06\n",
      "...                ...            ...           ...\n",
      "813510  WCR1999-009058  556817.687483  4.510712e+06\n",
      "826682  WCR2006-007563  564837.996223  4.510789e+06\n",
      "825319  WCR2007-008885  564837.996223  4.510789e+06\n",
      "825035  WCR2007-008884  564837.996223  4.510789e+06\n",
      "813991  WCR2007-008886  564837.996223  4.510789e+06\n",
      "\n",
      "[342652 rows x 3 columns]\n"
     ]
    }
   ],
   "source": [
    "print(\"DataFrame 1:\\n\", df1)\n",
    "print(\"\\nDataFrame 2:\\n\", df2)"
   ]
  },
  {
   "cell_type": "code",
   "execution_count": 22,
   "metadata": {},
   "outputs": [
    {
     "name": "stdout",
     "output_type": "stream",
     "text": [
      "Columns in merged_df: Index(['WCRNUMBER', 'DECIMALLAT', 'DECIMALLON', 'Decimal_La', 'Decimal_Lo',\n",
      "       'geometry', 'UTMX_x', 'UTMY_x', 'UTMX_y', 'UTMY_y'],\n",
      "      dtype='object')\n"
     ]
    },
    {
     "data": {
      "text/html": [
       "<div>\n",
       "<style scoped>\n",
       "    .dataframe tbody tr th:only-of-type {\n",
       "        vertical-align: middle;\n",
       "    }\n",
       "\n",
       "    .dataframe tbody tr th {\n",
       "        vertical-align: top;\n",
       "    }\n",
       "\n",
       "    .dataframe thead th {\n",
       "        text-align: right;\n",
       "    }\n",
       "</style>\n",
       "<table border=\"1\" class=\"dataframe\">\n",
       "  <thead>\n",
       "    <tr style=\"text-align: right;\">\n",
       "      <th></th>\n",
       "      <th>WCRNUMBER</th>\n",
       "      <th>DECIMALLAT</th>\n",
       "      <th>DECIMALLON</th>\n",
       "      <th>UTMX_y</th>\n",
       "      <th>UTMY_y</th>\n",
       "    </tr>\n",
       "  </thead>\n",
       "  <tbody>\n",
       "    <tr>\n",
       "      <th>0</th>\n",
       "      <td>WCR0124101</td>\n",
       "      <td>34.839900</td>\n",
       "      <td>-118.916000</td>\n",
       "      <td>873506.921762</td>\n",
       "      <td>3862901.261997</td>\n",
       "    </tr>\n",
       "    <tr>\n",
       "      <th>1</th>\n",
       "      <td>WCR0050844</td>\n",
       "      <td>34.839900</td>\n",
       "      <td>-118.916000</td>\n",
       "      <td>873506.921762</td>\n",
       "      <td>3862901.261997</td>\n",
       "    </tr>\n",
       "    <tr>\n",
       "      <th>2</th>\n",
       "      <td>WCR0021028</td>\n",
       "      <td>34.839900</td>\n",
       "      <td>-118.916000</td>\n",
       "      <td>873506.921762</td>\n",
       "      <td>3862901.261997</td>\n",
       "    </tr>\n",
       "    <tr>\n",
       "      <th>3</th>\n",
       "      <td>WCR0289261</td>\n",
       "      <td>34.839900</td>\n",
       "      <td>-118.916000</td>\n",
       "      <td>873506.921762</td>\n",
       "      <td>3862901.261997</td>\n",
       "    </tr>\n",
       "    <tr>\n",
       "      <th>4</th>\n",
       "      <td>WCR0151370</td>\n",
       "      <td>34.839900</td>\n",
       "      <td>-118.916000</td>\n",
       "      <td>873506.921762</td>\n",
       "      <td>3862901.261997</td>\n",
       "    </tr>\n",
       "  </tbody>\n",
       "</table>\n",
       "</div>"
      ],
      "text/plain": [
       "    WCRNUMBER  DECIMALLAT  DECIMALLON        UTMX_y         UTMY_y\n",
       "0  WCR0124101   34.839900 -118.916000 873506.921762 3862901.261997\n",
       "1  WCR0050844   34.839900 -118.916000 873506.921762 3862901.261997\n",
       "2  WCR0021028   34.839900 -118.916000 873506.921762 3862901.261997\n",
       "3  WCR0289261   34.839900 -118.916000 873506.921762 3862901.261997\n",
       "4  WCR0151370   34.839900 -118.916000 873506.921762 3862901.261997"
      ]
     },
     "execution_count": 22,
     "metadata": {},
     "output_type": "execute_result"
    }
   ],
   "source": [
    "# Merge df1 and df2 on 'WCRNUMBER'\n",
    "merged_df = pd.merge(df1, df2, on='WCRNUMBER', how='inner')\n",
    "\n",
    "# Display the column names to verify the merge\n",
    "print(\"Columns in merged_df:\", merged_df.columns)\n",
    "\n",
    "# Drop columns that are no longer needed (adjust column names as needed)\n",
    "merged_df.drop(columns=['Decimal_La', 'Decimal_Lo','geometry'], inplace=True, errors='ignore')\n",
    "\n",
    "# Drop rows with any NaN values\n",
    "merged_df.dropna(inplace=True)\n",
    "\n",
    "# Optionally, set display precision for floating point numbers (for visualization only)\n",
    "pd.set_option('display.float_format', '{:.6f}'.format)\n",
    "\n",
    "# Drop the intermediate column\n",
    "merged_df = merged_df.drop(['UTMX_x','UTMY_x'], axis=1)\n",
    "\n",
    "merged_df.head()"
   ]
  },
  {
   "cell_type": "code",
   "execution_count": 23,
   "metadata": {},
   "outputs": [],
   "source": [
    "merged_df.to_csv('UPDATED_wellcompletionreports.csv')"
   ]
  }
 ],
 "metadata": {
  "kernelspec": {
   "display_name": "Python 3 (ipykernel)",
   "language": "python",
   "name": "python3"
  },
  "language_info": {
   "codemirror_mode": {
    "name": "ipython",
    "version": 3
   },
   "file_extension": ".py",
   "mimetype": "text/x-python",
   "name": "python",
   "nbconvert_exporter": "python",
   "pygments_lexer": "ipython3",
   "version": "3.11.5"
  }
 },
 "nbformat": 4,
 "nbformat_minor": 4
}
