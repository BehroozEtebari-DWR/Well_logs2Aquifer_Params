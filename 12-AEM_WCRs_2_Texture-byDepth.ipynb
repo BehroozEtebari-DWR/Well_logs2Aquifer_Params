{
 "cells": [
  {
   "cell_type": "code",
   "execution_count": 1,
   "id": "4ed119a9",
   "metadata": {},
   "outputs": [],
   "source": [
    "import pandas as pd\n",
    "import geopandas as gpd\n",
    "from shapely.geometry import Point\n",
    "import os"
   ]
  },
  {
   "cell_type": "code",
   "execution_count": 2,
   "id": "4b321a0d",
   "metadata": {
    "scrolled": true
   },
   "outputs": [
    {
     "name": "stderr",
     "output_type": "stream",
     "text": [
      "C:\\Users\\betebari\\AppData\\Local\\Temp\\ipykernel_23668\\142399362.py:2: DtypeWarning: Columns (0,5) have mixed types. Specify dtype option on import or set low_memory=False.\n",
      "  filtered_df = pd.read_csv(\"8-updated_all.csv\")\n"
     ]
    },
    {
     "data": {
      "text/html": [
       "<div>\n",
       "<style scoped>\n",
       "    .dataframe tbody tr th:only-of-type {\n",
       "        vertical-align: middle;\n",
       "    }\n",
       "\n",
       "    .dataframe tbody tr th {\n",
       "        vertical-align: top;\n",
       "    }\n",
       "\n",
       "    .dataframe thead th {\n",
       "        text-align: right;\n",
       "    }\n",
       "</style>\n",
       "<table border=\"1\" class=\"dataframe\">\n",
       "  <thead>\n",
       "    <tr style=\"text-align: right;\">\n",
       "      <th></th>\n",
       "      <th>WCRNUMBER</th>\n",
       "      <th>UTMX</th>\n",
       "      <th>UTMY</th>\n",
       "      <th>INTERVALSTART</th>\n",
       "      <th>INTERVALEND</th>\n",
       "      <th>USCS</th>\n",
       "      <th>Average Hydraulic Conductivity (ft/day)</th>\n",
       "      <th>AverageCoarseFraction</th>\n",
       "      <th>Avg Specific Yield (%)</th>\n",
       "      <th>Avg Ss (1/L)</th>\n",
       "      <th>Avg Kv (ft/day)</th>\n",
       "      <th>Z</th>\n",
       "      <th>INTERVAL_MIDPOINT</th>\n",
       "    </tr>\n",
       "  </thead>\n",
       "  <tbody>\n",
       "    <tr>\n",
       "      <th>0</th>\n",
       "      <td>WCR2019-014989</td>\n",
       "      <td>874863.218055</td>\n",
       "      <td>3.863357e+06</td>\n",
       "      <td>0.0</td>\n",
       "      <td>2.0</td>\n",
       "      <td>TPSL</td>\n",
       "      <td>0.050500</td>\n",
       "      <td>17.5</td>\n",
       "      <td>17.5</td>\n",
       "      <td>17.5</td>\n",
       "      <td>17.5</td>\n",
       "      <td>NaN</td>\n",
       "      <td>1.0</td>\n",
       "    </tr>\n",
       "    <tr>\n",
       "      <th>1</th>\n",
       "      <td>WCR2019-014989</td>\n",
       "      <td>874863.218055</td>\n",
       "      <td>3.863357e+06</td>\n",
       "      <td>2.0</td>\n",
       "      <td>25.0</td>\n",
       "      <td>GRNT</td>\n",
       "      <td>0.001642</td>\n",
       "      <td>10.0</td>\n",
       "      <td>10.0</td>\n",
       "      <td>10.0</td>\n",
       "      <td>10.0</td>\n",
       "      <td>NaN</td>\n",
       "      <td>13.5</td>\n",
       "    </tr>\n",
       "    <tr>\n",
       "      <th>2</th>\n",
       "      <td>WCR2019-014989</td>\n",
       "      <td>874863.218055</td>\n",
       "      <td>3.863357e+06</td>\n",
       "      <td>25.0</td>\n",
       "      <td>100.0</td>\n",
       "      <td>FRAC,CLSN</td>\n",
       "      <td>16.002500</td>\n",
       "      <td>45.0</td>\n",
       "      <td>45.0</td>\n",
       "      <td>45.0</td>\n",
       "      <td>45.0</td>\n",
       "      <td>NaN</td>\n",
       "      <td>62.5</td>\n",
       "    </tr>\n",
       "    <tr>\n",
       "      <th>3</th>\n",
       "      <td>WCR2019-014989</td>\n",
       "      <td>874863.218055</td>\n",
       "      <td>3.863357e+06</td>\n",
       "      <td>100.0</td>\n",
       "      <td>230.0</td>\n",
       "      <td>GRNT</td>\n",
       "      <td>0.001642</td>\n",
       "      <td>10.0</td>\n",
       "      <td>10.0</td>\n",
       "      <td>10.0</td>\n",
       "      <td>10.0</td>\n",
       "      <td>NaN</td>\n",
       "      <td>165.0</td>\n",
       "    </tr>\n",
       "    <tr>\n",
       "      <th>4</th>\n",
       "      <td>WCR2019-014989</td>\n",
       "      <td>874863.218055</td>\n",
       "      <td>3.863357e+06</td>\n",
       "      <td>230.0</td>\n",
       "      <td>250.0</td>\n",
       "      <td>FRAC,CLSN</td>\n",
       "      <td>16.002500</td>\n",
       "      <td>45.0</td>\n",
       "      <td>45.0</td>\n",
       "      <td>45.0</td>\n",
       "      <td>45.0</td>\n",
       "      <td>NaN</td>\n",
       "      <td>240.0</td>\n",
       "    </tr>\n",
       "  </tbody>\n",
       "</table>\n",
       "</div>"
      ],
      "text/plain": [
       "        WCRNUMBER           UTMX          UTMY  INTERVALSTART  INTERVALEND  \\\n",
       "0  WCR2019-014989  874863.218055  3.863357e+06            0.0          2.0   \n",
       "1  WCR2019-014989  874863.218055  3.863357e+06            2.0         25.0   \n",
       "2  WCR2019-014989  874863.218055  3.863357e+06           25.0        100.0   \n",
       "3  WCR2019-014989  874863.218055  3.863357e+06          100.0        230.0   \n",
       "4  WCR2019-014989  874863.218055  3.863357e+06          230.0        250.0   \n",
       "\n",
       "        USCS  Average Hydraulic Conductivity (ft/day)  AverageCoarseFraction  \\\n",
       "0       TPSL                                 0.050500                   17.5   \n",
       "1       GRNT                                 0.001642                   10.0   \n",
       "2  FRAC,CLSN                                16.002500                   45.0   \n",
       "3       GRNT                                 0.001642                   10.0   \n",
       "4  FRAC,CLSN                                16.002500                   45.0   \n",
       "\n",
       "   Avg Specific Yield (%)  Avg Ss (1/L)  Avg Kv (ft/day)  Z    \\\n",
       "0                    17.5          17.5             17.5  NaN   \n",
       "1                    10.0          10.0             10.0  NaN   \n",
       "2                    45.0          45.0             45.0  NaN   \n",
       "3                    10.0          10.0             10.0  NaN   \n",
       "4                    45.0          45.0             45.0  NaN   \n",
       "\n",
       "   INTERVAL_MIDPOINT  \n",
       "0                1.0  \n",
       "1               13.5  \n",
       "2               62.5  \n",
       "3              165.0  \n",
       "4              240.0  "
      ]
     },
     "execution_count": 2,
     "metadata": {},
     "output_type": "execute_result"
    }
   ],
   "source": [
    "# Load the data\n",
    "filtered_df = pd.read_csv(\"8-updated_all.csv\")\n",
    "\n",
    "# Drop rows where INTERVALSTART is NaN\n",
    "filtered_df = filtered_df.dropna(subset=['AverageCoarseFraction'])\n",
    "\n",
    "filtered_df.head()"
   ]
  },
  {
   "cell_type": "code",
   "execution_count": 4,
   "id": "e1fb011a",
   "metadata": {},
   "outputs": [
    {
     "name": "stderr",
     "output_type": "stream",
     "text": [
      "C:\\Users\\betebari\\AppData\\Local\\Temp\\ipykernel_23668\\1611408150.py:39: UserWarning: Column names longer than 10 characters will be truncated when saved to ESRI Shapefile.\n",
      "  gdf.to_file(shapefile_path)\n"
     ]
    },
    {
     "name": "stdout",
     "output_type": "stream",
     "text": [
      "Shapefile created: C:\\Users\\betebari\\Documents\\C2VSim_Texture\\Texture-Maps\\point_output_0_25.shp\n"
     ]
    },
    {
     "name": "stderr",
     "output_type": "stream",
     "text": [
      "C:\\Users\\betebari\\AppData\\Local\\Temp\\ipykernel_23668\\1611408150.py:39: UserWarning: Column names longer than 10 characters will be truncated when saved to ESRI Shapefile.\n",
      "  gdf.to_file(shapefile_path)\n"
     ]
    },
    {
     "name": "stdout",
     "output_type": "stream",
     "text": [
      "Shapefile created: C:\\Users\\betebari\\Documents\\C2VSim_Texture\\Texture-Maps\\point_output_25_50.shp\n"
     ]
    },
    {
     "name": "stderr",
     "output_type": "stream",
     "text": [
      "C:\\Users\\betebari\\AppData\\Local\\Temp\\ipykernel_23668\\1611408150.py:39: UserWarning: Column names longer than 10 characters will be truncated when saved to ESRI Shapefile.\n",
      "  gdf.to_file(shapefile_path)\n"
     ]
    },
    {
     "name": "stdout",
     "output_type": "stream",
     "text": [
      "Shapefile created: C:\\Users\\betebari\\Documents\\C2VSim_Texture\\Texture-Maps\\point_output_50_75.shp\n"
     ]
    },
    {
     "name": "stderr",
     "output_type": "stream",
     "text": [
      "C:\\Users\\betebari\\AppData\\Local\\Temp\\ipykernel_23668\\1611408150.py:39: UserWarning: Column names longer than 10 characters will be truncated when saved to ESRI Shapefile.\n",
      "  gdf.to_file(shapefile_path)\n"
     ]
    },
    {
     "name": "stdout",
     "output_type": "stream",
     "text": [
      "Shapefile created: C:\\Users\\betebari\\Documents\\C2VSim_Texture\\Texture-Maps\\point_output_75_100.shp\n"
     ]
    },
    {
     "name": "stderr",
     "output_type": "stream",
     "text": [
      "C:\\Users\\betebari\\AppData\\Local\\Temp\\ipykernel_23668\\1611408150.py:39: UserWarning: Column names longer than 10 characters will be truncated when saved to ESRI Shapefile.\n",
      "  gdf.to_file(shapefile_path)\n"
     ]
    },
    {
     "name": "stdout",
     "output_type": "stream",
     "text": [
      "Shapefile created: C:\\Users\\betebari\\Documents\\C2VSim_Texture\\Texture-Maps\\point_output_100_125.shp\n"
     ]
    },
    {
     "name": "stderr",
     "output_type": "stream",
     "text": [
      "C:\\Users\\betebari\\AppData\\Local\\Temp\\ipykernel_23668\\1611408150.py:39: UserWarning: Column names longer than 10 characters will be truncated when saved to ESRI Shapefile.\n",
      "  gdf.to_file(shapefile_path)\n"
     ]
    },
    {
     "name": "stdout",
     "output_type": "stream",
     "text": [
      "Shapefile created: C:\\Users\\betebari\\Documents\\C2VSim_Texture\\Texture-Maps\\point_output_125_150.shp\n"
     ]
    }
   ],
   "source": [
    "# Define the output folder path\n",
    "output_folder = r\"C:\\Users\\betebari\\Documents\\C2VSim_Texture\\Texture-Maps\"\n",
    "\n",
    "# Ensure the output folder exists\n",
    "if not os.path.exists(output_folder):\n",
    "    os.makedirs(output_folder)\n",
    "\n",
    "# Define the depth intervals you want to use\n",
    "\n",
    "depth_intervals = [(0, 25), (25, 50), (50, 75),\n",
    "                (75, 100), (100, 125), (125, 150)\n",
    "                ]  # You can extend this as needed\n",
    "\n",
    "# Loop through each depth interval and filter the data accordingly\n",
    "for depth_range in depth_intervals:\n",
    "    start_depth, end_depth = depth_range\n",
    "\n",
    "    # Filter data for the current depth range\n",
    "    depth_slice_df = filtered_df[\n",
    "        (filtered_df['INTERVAL_MIDPOINT'] >= start_depth) & \n",
    "        (filtered_df['INTERVAL_MIDPOINT'] < end_depth)\n",
    "    ]\n",
    "\n",
    "    # Ensure there's data for this depth range\n",
    "    if depth_slice_df.empty:\n",
    "        print(f\"No data available for depth range {start_depth}-{end_depth} feet\")\n",
    "        continue\n",
    "\n",
    "    # Create geometry from UTMX and UTMY\n",
    "    geometry = [Point(xy) for xy in zip(depth_slice_df['UTMX'], depth_slice_df['UTMY'])]\n",
    "\n",
    "    # Create a GeoDataFrame using the point geometries\n",
    "    gdf = gpd.GeoDataFrame(depth_slice_df, geometry=geometry)\n",
    "\n",
    "    # Construct the output file name using the depth range\n",
    "    shapefile_name = f\"point_output_{start_depth}_{end_depth}.shp\"\n",
    "\n",
    "    # Full path for the shapefile\n",
    "    shapefile_path = os.path.join(output_folder, shapefile_name)\n",
    "\n",
    "    # Save the point data as a shapefile\n",
    "    gdf.to_file(shapefile_path)\n",
    "\n",
    "    print(f\"Shapefile created: {shapefile_path}\")\n"
   ]
  },
  {
   "cell_type": "code",
   "execution_count": null,
   "id": "98706a2d-05b0-46c3-b35e-525e98bfd33f",
   "metadata": {},
   "outputs": [],
   "source": []
  }
 ],
 "metadata": {
  "kernelspec": {
   "display_name": "Python 3 (ipykernel)",
   "language": "python",
   "name": "python3"
  },
  "language_info": {
   "codemirror_mode": {
    "name": "ipython",
    "version": 3
   },
   "file_extension": ".py",
   "mimetype": "text/x-python",
   "name": "python",
   "nbconvert_exporter": "python",
   "pygments_lexer": "ipython3",
   "version": "3.11.5"
  }
 },
 "nbformat": 4,
 "nbformat_minor": 5
}
