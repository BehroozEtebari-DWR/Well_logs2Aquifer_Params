{
 "cells": [
  {
   "cell_type": "code",
   "execution_count": 1,
   "id": "2cf0be0d",
   "metadata": {},
   "outputs": [],
   "source": [
    "import os\n",
    "import glob\n",
    "import numpy as np\n",
    "import pandas as pd\n",
    "\n",
    "import geopandas as gpd\n",
    "from shapely.geometry import Point"
   ]
  },
  {
   "cell_type": "code",
   "execution_count": 2,
   "id": "96b03fe7-a52a-451f-96d2-5717c82496de",
   "metadata": {},
   "outputs": [],
   "source": [
    "# File paths for your CSV files\n",
    "file_paths = [\n",
    "    'AEM_WELL_LITHOLOGY_csv_WO4_20230831.csv',\n",
    "    'AEM_WELL_LITHOLOGY_csv_WO5_20230125.csv',\n",
    "    'AEM_WELL_LITHOLOGY_csv_WO6_20230103.csv',\n",
    "    'AEM_WELL_LITHOLOGY_csv_WO7_20230327.csv',\n",
    "]"
   ]
  },
  {
   "cell_type": "code",
   "execution_count": 3,
   "id": "02f2908c",
   "metadata": {},
   "outputs": [
    {
     "name": "stderr",
     "output_type": "stream",
     "text": [
      "C:\\Users\\betebari\\AppData\\Local\\Temp\\ipykernel_9340\\2185420019.py:8: DtypeWarning: Columns (2,21,23) have mixed types. Specify dtype option on import or set low_memory=False.\n",
      "  df = pd.read_csv(file_path)\n",
      "C:\\Users\\betebari\\AppData\\Local\\Temp\\ipykernel_9340\\2185420019.py:8: DtypeWarning: Columns (2,15,21) have mixed types. Specify dtype option on import or set low_memory=False.\n",
      "  df = pd.read_csv(file_path)\n",
      "C:\\Users\\betebari\\AppData\\Local\\Temp\\ipykernel_9340\\2185420019.py:13: DtypeWarning: Columns (3,4,21) have mixed types. Specify dtype option on import or set low_memory=False.\n",
      "  df = pd.read_csv(file_path, encoding='latin1')\n",
      "C:\\Users\\betebari\\AppData\\Local\\Temp\\ipykernel_9340\\2185420019.py:8: DtypeWarning: Columns (3,4) have mixed types. Specify dtype option on import or set low_memory=False.\n",
      "  df = pd.read_csv(file_path)\n"
     ]
    },
    {
     "name": "stdout",
     "output_type": "stream",
     "text": [
      "        LITH_ID  WELL_INFO_ID LOCAL_ID1 LOCAL_ID2  \\\n",
      "0         46615             1       NaN    8841.0   \n",
      "1         46616             1       NaN    8841.0   \n",
      "2         46617             1       NaN    8841.0   \n",
      "3         46618             1       NaN    8841.0   \n",
      "4         46619             1       NaN    8841.0   \n",
      "...         ...           ...       ...       ...   \n",
      "679116   122099         12022       NaN       NaN   \n",
      "679117   122100         12022       NaN       NaN   \n",
      "679118   122101         12022       NaN       NaN   \n",
      "679119   122102         12022       NaN       NaN   \n",
      "679120   122103         12022       NaN       NaN   \n",
      "\n",
      "                             LOCAL_ID3  X_CATEALEALBERS_m  Y_CATEALEALBERS_m  \\\n",
      "0                                  NaN        46235.86635       -314240.5205   \n",
      "1                                  NaN        46235.86635       -314240.5205   \n",
      "2                                  NaN        46235.86635       -314240.5205   \n",
      "3                                  NaN        46235.86635       -314240.5205   \n",
      "4                                  NaN        46235.86635       -314240.5205   \n",
      "...                                ...                ...                ...   \n",
      "679116  16N01W08_0963107.pdf_final.txt      -172051.02680        138540.9287   \n",
      "679117  16N01W08_0963107.pdf_final.txt      -172051.02680        138540.9287   \n",
      "679118  16N01W08_0963107.pdf_final.txt      -172051.02680        138540.9287   \n",
      "679119  16N01W08_0963107.pdf_final.txt      -172051.02680        138540.9287   \n",
      "679120  16N01W08_0963107.pdf_final.txt      -172051.02680        138540.9287   \n",
      "\n",
      "        GROUND_SURFACE_ELEVATION_m  LITH_TOP_DEPTH_m  LITH_BOT_DEPTH_m  ...  \\\n",
      "0                       282.726384            0.0000            7.6200  ...   \n",
      "1                       282.726384            7.6200           10.6680  ...   \n",
      "2                       282.726384           10.6680           17.0688  ...   \n",
      "3                       282.726384           17.0688           19.8120  ...   \n",
      "4                       282.726384           19.8120           21.3360  ...   \n",
      "...                            ...               ...               ...  ...   \n",
      "679116                   19.324320           32.0040           47.2440  ...   \n",
      "679117                   19.324320           47.2440           57.6072  ...   \n",
      "679118                   19.324320           57.6072           66.4464  ...   \n",
      "679119                   19.324320           66.4464           84.1248  ...   \n",
      "679120                   19.324320           84.1248           85.3440  ...   \n",
      "\n",
      "       LITH_MINOR2  TEXTURE   TEXTURE_REFINED USCS_SYMBOL USCS_DESCRIPTION  \\\n",
      "0              NaN     fine              fine       CH/CL             Clay   \n",
      "1              NaN     fine  fine with coarse       CH/CL       Sandy clay   \n",
      "2              NaN     fine              fine       CH/CL             Clay   \n",
      "3              NaN   coarse            coarse       SW/SP             Sand   \n",
      "4              NaN     fine              fine       CH/CL             Clay   \n",
      "...            ...      ...               ...         ...              ...   \n",
      "679116         NaN     fine              fine         NaN              NaN   \n",
      "679117         NaN   coarse            coarse         NaN              NaN   \n",
      "679118         NaN     fine              fine         NaN              NaN   \n",
      "679119         NaN   coarse            coarse         NaN              NaN   \n",
      "679120         NaN     fine              fine         NaN              NaN   \n",
      "\n",
      "            COLOR NOTES                                        DATA_SOURCE  \\\n",
      "0          yellow   NaN                             AECOM (Local Agencies)   \n",
      "1             NaN   NaN                             AECOM (Local Agencies)   \n",
      "2          yellow   NaN                             AECOM (Local Agencies)   \n",
      "3             NaN   NaN                             AECOM (Local Agencies)   \n",
      "4            blue   NaN                             AECOM (Local Agencies)   \n",
      "...           ...   ...                                                ...   \n",
      "679116  blue/gray   NaN  Eclogite (Digitization of Well Completion Report)   \n",
      "679117        NaN   NaN  Eclogite (Digitization of Well Completion Report)   \n",
      "679118       blue   NaN  Eclogite (Digitization of Well Completion Report)   \n",
      "679119        NaN   NaN  Eclogite (Digitization of Well Completion Report)   \n",
      "679120       blue   NaN  Eclogite (Digitization of Well Completion Report)   \n",
      "\n",
      "       DESCRIPTOR QAQC  \n",
      "0             NaN  NaN  \n",
      "1             NaN  NaN  \n",
      "2             NaN  NaN  \n",
      "3             NaN  NaN  \n",
      "4             NaN  NaN  \n",
      "...           ...  ...  \n",
      "679116        NaN  NaN  \n",
      "679117        NaN  NaN  \n",
      "679118        NaN  NaN  \n",
      "679119        NaN  NaN  \n",
      "679120        NaN  NaN  \n",
      "\n",
      "[679121 rows x 25 columns]\n"
     ]
    }
   ],
   "source": [
    "# List to hold dataframes\n",
    "dataframes = []\n",
    "\n",
    "# Read each CSV file and append to the list\n",
    "for file_path in file_paths:\n",
    "    try:\n",
    "        # Attempt to read with default encoding\n",
    "        df = pd.read_csv(file_path)\n",
    "        dataframes.append(df)\n",
    "    except UnicodeDecodeError:\n",
    "        try:\n",
    "            # Try reading with a different encoding if the first attempt fails\n",
    "            df = pd.read_csv(file_path, encoding='latin1')\n",
    "            dataframes.append(df)\n",
    "        except Exception as e:\n",
    "            print(f\"Error reading file {file_path}: {e}\")\n",
    "    except FileNotFoundError:\n",
    "        print(f\"File not found: {file_path}\")\n",
    "    except pd.errors.EmptyDataError:\n",
    "        print(f\"File is empty: {file_path}\")\n",
    "    except pd.errors.ParserError:\n",
    "        print(f\"Error parsing file: {file_path}\")\n",
    "\n",
    "# Concatenate all dataframes\n",
    "if dataframes:\n",
    "    merged_df = pd.concat(dataframes, ignore_index=True)\n",
    "    print(merged_df)\n",
    "else:\n",
    "    print(\"No dataframes to merge.\")"
   ]
  },
  {
   "cell_type": "code",
   "execution_count": 4,
   "id": "f7694117",
   "metadata": {},
   "outputs": [],
   "source": [
    "# Rename the columns\n",
    "merged_df = merged_df.rename(columns={\n",
    "    'GROUND_SURFACE_ELEVATION_m': 'GSE_m',\n",
    "    'LITH_TOP_DEPTH_m': 'INTERVALSTART_m',\n",
    "    'LITH_BOT_DEPTH_m': 'INTERVALEND_m',\n",
    "    'WELL_INFO_ID' : 'WCRNUMBER'\n",
    "})\n",
    "\n",
    "# Display the resulting dataframe"
   ]
  },
  {
   "cell_type": "code",
   "execution_count": 5,
   "id": "55b4ef47",
   "metadata": {},
   "outputs": [],
   "source": [
    "# Unit Conversion meters to feet\n",
    "\n",
    "merged_df['GSE_ft'] = merged_df['GSE_m'] * 3.28084\n",
    "merged_df['INTERVALSTART'] = merged_df['INTERVALSTART_m'] * 3.28084\n",
    "merged_df['INTERVALEND'] = merged_df['INTERVALEND_m'] * 3.28084"
   ]
  },
  {
   "cell_type": "code",
   "execution_count": 6,
   "id": "0a022ab5",
   "metadata": {},
   "outputs": [],
   "source": [
    "# Drop specified columns\n",
    "merged_df = merged_df.drop(columns=['GSE_m','INTERVALSTART_m', 'INTERVALEND_m'])"
   ]
  },
  {
   "cell_type": "code",
   "execution_count": 7,
   "id": "a4fa5ab2",
   "metadata": {},
   "outputs": [
    {
     "name": "stderr",
     "output_type": "stream",
     "text": [
      "C:\\Users\\betebari\\AppData\\Local\\Temp\\ipykernel_9340\\2642532164.py:14: UserWarning: Column names longer than 10 characters will be truncated when saved to ESRI Shapefile.\n",
      "  merged_df.to_file('AEM_supp.shp', driver='ESRI Shapefile')\n"
     ]
    }
   ],
   "source": [
    "# Drop columns that are no longer needed\n",
    "merged_df.drop(columns=['LITH_TRANSCRIPTION','LOCAL_ID3', 'LITH_MAJOR1', 'LITH_MAJOR2' ,'LITH_MINOR1'\n",
    "            ,'RAW_DESCRIPTION', 'DATA_SOURCE' , 'DESCRIPTOR', 'QAQC',\n",
    "    'LITH_MINOR2','TEXTURE', 'TEXTURE_REFINED' , 'COLOR', 'NOTES'], inplace=True)\n",
    "                            \n",
    "# Convert DataFrame to GeoDataFrame\n",
    "merged_df = gpd.GeoDataFrame(\n",
    "    merged_df,\n",
    "    geometry=gpd.points_from_xy(merged_df['X_CATEALEALBERS_m'], merged_df['Y_CATEALEALBERS_m']),\n",
    "    crs=\"EPSG:3310\"  # Original CRS\n",
    ")\n",
    "\n",
    "# WCR's locations 2 shapefile\n",
    "merged_df.to_file('AEM_supp.shp', driver='ESRI Shapefile')"
   ]
  },
  {
   "cell_type": "code",
   "execution_count": 8,
   "id": "bc125413",
   "metadata": {},
   "outputs": [
    {
     "data": {
      "text/plain": [
       "<Projected CRS: EPSG:26910>\n",
       "Name: NAD83 / UTM zone 10N\n",
       "Axis Info [cartesian]:\n",
       "- E[east]: Easting (metre)\n",
       "- N[north]: Northing (metre)\n",
       "Area of Use:\n",
       "- name: North America - between 126°W and 120°W - onshore and offshore. Canada - British Columbia; Northwest Territories; Yukon. United States (USA) - California; Oregon; Washington.\n",
       "- bounds: (-126.0, 30.54, -119.99, 81.8)\n",
       "Coordinate Operation:\n",
       "- name: UTM zone 10N\n",
       "- method: Transverse Mercator\n",
       "Datum: North American Datum 1983\n",
       "- Ellipsoid: GRS 1980\n",
       "- Prime Meridian: Greenwich"
      ]
     },
     "execution_count": 8,
     "metadata": {},
     "output_type": "execute_result"
    },
    {
     "data": {
      "image/png": "[encoded data removed]",
      "text/plain": [
       "<Figure size 640x480 with 1 Axes>"
      ]
     },
     "metadata": {},
     "output_type": "display_data"
    }
   ],
   "source": [
    "aquifer_boundary = gpd.read_file('central_val_buf_5mil_utm10n.shp')\n",
    "aquifer_boundary.plot()\n",
    "aquifer_boundary.crs"
   ]
  },
  {
   "cell_type": "code",
   "execution_count": 9,
   "id": "6f9d8f6e",
   "metadata": {},
   "outputs": [
    {
     "name": "stdout",
     "output_type": "stream",
     "text": [
      "        LITH_ID  WCRNUMBER LOCAL_ID1 LOCAL_ID2  X_CATEALEALBERS_m  \\\n",
      "0         46615          1       NaN    8841.0        46235.86635   \n",
      "1         46616          1       NaN    8841.0        46235.86635   \n",
      "2         46617          1       NaN    8841.0        46235.86635   \n",
      "3         46618          1       NaN    8841.0        46235.86635   \n",
      "4         46619          1       NaN    8841.0        46235.86635   \n",
      "...         ...        ...       ...       ...                ...   \n",
      "679116   122099      12022       NaN       NaN      -172051.02680   \n",
      "679117   122100      12022       NaN       NaN      -172051.02680   \n",
      "679118   122101      12022       NaN       NaN      -172051.02680   \n",
      "679119   122102      12022       NaN       NaN      -172051.02680   \n",
      "679120   122103      12022       NaN       NaN      -172051.02680   \n",
      "\n",
      "        Y_CATEALEALBERS_m USCS_SYMBOL USCS_DESCRIPTION      GSE_ft  \\\n",
      "0            -314240.5205       CH/CL             Clay  927.580030   \n",
      "1            -314240.5205       CH/CL       Sandy clay  927.580030   \n",
      "2            -314240.5205       CH/CL             Clay  927.580030   \n",
      "3            -314240.5205       SW/SP             Sand  927.580030   \n",
      "4            -314240.5205       CH/CL             Clay  927.580030   \n",
      "...                   ...         ...              ...         ...   \n",
      "679116        138540.9287         NaN              NaN   63.400002   \n",
      "679117        138540.9287         NaN              NaN   63.400002   \n",
      "679118        138540.9287         NaN              NaN   63.400002   \n",
      "679119        138540.9287         NaN              NaN   63.400002   \n",
      "679120        138540.9287         NaN              NaN   63.400002   \n",
      "\n",
      "        INTERVALSTART  INTERVALEND                        geometry  \\\n",
      "0            0.000000    25.000001  POINT (819457.150 3899480.074)   \n",
      "1           25.000001    35.000001  POINT (819457.150 3899480.074)   \n",
      "2           35.000001    56.000002  POINT (819457.150 3899480.074)   \n",
      "3           56.000002    65.000002  POINT (819457.150 3899480.074)   \n",
      "4           65.000002    70.000002  POINT (819457.150 3899480.074)   \n",
      "...               ...          ...                             ...   \n",
      "679116     105.000003   155.000005  POINT (586701.241 4344607.620)   \n",
      "679117     155.000005   189.000006  POINT (586701.241 4344607.620)   \n",
      "679118     189.000006   218.000007  POINT (586701.241 4344607.620)   \n",
      "679119     218.000007   276.000009  POINT (586701.241 4344607.620)   \n",
      "679120     276.000009   280.000009  POINT (586701.241 4344607.620)   \n",
      "\n",
      "                 UTMX          UTMY  \n",
      "0       819457.149950  3.899480e+06  \n",
      "1       819457.149950  3.899480e+06  \n",
      "2       819457.149950  3.899480e+06  \n",
      "3       819457.149950  3.899480e+06  \n",
      "4       819457.149950  3.899480e+06  \n",
      "...               ...           ...  \n",
      "679116  586701.241297  4.344608e+06  \n",
      "679117  586701.241297  4.344608e+06  \n",
      "679118  586701.241297  4.344608e+06  \n",
      "679119  586701.241297  4.344608e+06  \n",
      "679120  586701.241297  4.344608e+06  \n",
      "\n",
      "[679121 rows x 14 columns]\n"
     ]
    },
    {
     "name": "stderr",
     "output_type": "stream",
     "text": [
      "C:\\Users\\betebari\\AppData\\Local\\Temp\\ipykernel_9340\\1831986779.py:12: UserWarning: Column names longer than 10 characters will be truncated when saved to ESRI Shapefile.\n",
      "  gdf_Ramboll.to_file(\"reprojected_AEM_supporting.shp\")\n"
     ]
    }
   ],
   "source": [
    "# Reproject to EPSG:26910\n",
    "gdf_Ramboll = merged_df.to_crs(\"EPSG:26910\")\n",
    "\n",
    "# Extract UTM X and Y coordinates from the geometry column\n",
    "gdf_Ramboll['UTMX'] = gdf_Ramboll.geometry.x\n",
    "gdf_Ramboll['UTMY'] = gdf_Ramboll.geometry.y\n",
    "\n",
    "# Save or use the reprojected GeoDataFrame\n",
    "print(gdf_Ramboll)\n",
    "\n",
    "# Optionally save the reprojected GeoDataFrame to a new file\n",
    "gdf_Ramboll.to_file(\"reprojected_AEM_supporting.shp\")"
   ]
  },
  {
   "cell_type": "code",
   "execution_count": 10,
   "id": "0439ec2a",
   "metadata": {},
   "outputs": [
    {
     "name": "stdout",
     "output_type": "stream",
     "text": [
      "(658686, 14)\n",
      "       LITH_ID  WCRNUMBER LOCAL_ID1 LOCAL_ID2  X_CATEALEALBERS_m  \\\n",
      "92389   217727      18926       NaN       NaN         104444.274   \n",
      "92367   217705      18926       NaN       NaN         104444.274   \n",
      "92398   217736      18926       NaN       NaN         104444.274   \n",
      "92397   217735      18926       NaN       NaN         104444.274   \n",
      "92396   217734      18926       NaN       NaN         104444.274   \n",
      "\n",
      "       Y_CATEALEALBERS_m USCS_SYMBOL USCS_DESCRIPTION      GSE_ft  \\\n",
      "92389       -337114.7239       CH/CL    Gravelly clay  959.850031   \n",
      "92367       -337114.7239          SC      Clayey Sand  959.850031   \n",
      "92398       -337114.7239       CH/CL    Gravelly clay  959.850031   \n",
      "92397       -337114.7239       SW/SP             Sand  959.850031   \n",
      "92396       -337114.7239        Rock      Sedimentary  959.850031   \n",
      "\n",
      "       INTERVALSTART  INTERVALEND                        geometry  \\\n",
      "92389     150.000005   210.000007  POINT (878433.650 3878343.493)   \n",
      "92367     440.000014   480.000015  POINT (878433.650 3878343.493)   \n",
      "92398     240.000008   260.000008  POINT (878433.650 3878343.493)   \n",
      "92397    1130.000036  1190.000038  POINT (878433.650 3878343.493)   \n",
      "92396     810.000026   830.000027  POINT (878433.650 3878343.493)   \n",
      "\n",
      "                UTMX          UTMY  \n",
      "92389  878433.650475  3.878343e+06  \n",
      "92367  878433.650475  3.878343e+06  \n",
      "92398  878433.650475  3.878343e+06  \n",
      "92397  878433.650475  3.878343e+06  \n",
      "92396  878433.650475  3.878343e+06  \n"
     ]
    }
   ],
   "source": [
    "clipped_points = gpd.clip(gdf_Ramboll, aquifer_boundary)\n",
    "print(clipped_points.shape)\n",
    "print(clipped_points.head())"
   ]
  },
  {
   "cell_type": "code",
   "execution_count": 11,
   "id": "f3b3acf4",
   "metadata": {},
   "outputs": [
    {
     "name": "stderr",
     "output_type": "stream",
     "text": [
      "C:\\Users\\betebari\\AppData\\Local\\Temp\\ipykernel_9340\\3264841021.py:1: UserWarning: Column names longer than 10 characters will be truncated when saved to ESRI Shapefile.\n",
      "  clipped_points.to_file(\"clipped_gdf_Ramboll.shp\")\n"
     ]
    }
   ],
   "source": [
    "clipped_points.to_file(\"clipped_gdf_Ramboll.shp\")\n"
   ]
  },
  {
   "cell_type": "code",
   "execution_count": 12,
   "id": "56b52a5a",
   "metadata": {},
   "outputs": [
    {
     "name": "stderr",
     "output_type": "stream",
     "text": [
      "C:\\Users\\betebari\\AppData\\Local\\Temp\\ipykernel_9340\\2961905775.py:2: SettingWithCopyWarning: \n",
      "A value is trying to be set on a copy of a slice from a DataFrame\n",
      "\n",
      "See the caveats in the documentation: https://pandas.pydata.org/pandas-docs/stable/user_guide/indexing.html#returning-a-view-versus-a-copy\n",
      "  clipped_points.drop(columns=['X_CATEALEALBERS_m','Y_CATEALEALBERS_m' ,\n"
     ]
    },
    {
     "name": "stdout",
     "output_type": "stream",
     "text": [
      "Number of unique WCRNUMBER values: 16899\n"
     ]
    },
    {
     "data": {
      "text/html": [
       "<div>\n",
       "<style scoped>\n",
       "    .dataframe tbody tr th:only-of-type {\n",
       "        vertical-align: middle;\n",
       "    }\n",
       "\n",
       "    .dataframe tbody tr th {\n",
       "        vertical-align: top;\n",
       "    }\n",
       "\n",
       "    .dataframe thead th {\n",
       "        text-align: right;\n",
       "    }\n",
       "</style>\n",
       "<table border=\"1\" class=\"dataframe\">\n",
       "  <thead>\n",
       "    <tr style=\"text-align: right;\">\n",
       "      <th></th>\n",
       "      <th>WCRNUMBER</th>\n",
       "      <th>USCS</th>\n",
       "      <th>DESCRIPTION</th>\n",
       "      <th>GSE_ft</th>\n",
       "      <th>INTERVALSTART</th>\n",
       "      <th>INTERVALEND</th>\n",
       "      <th>geometry</th>\n",
       "      <th>UTMX</th>\n",
       "      <th>UTMY</th>\n",
       "    </tr>\n",
       "  </thead>\n",
       "  <tbody>\n",
       "    <tr>\n",
       "      <th>92389</th>\n",
       "      <td>18926</td>\n",
       "      <td>CH/CL</td>\n",
       "      <td>Gravelly clay</td>\n",
       "      <td>959.850031</td>\n",
       "      <td>150.000005</td>\n",
       "      <td>210.000007</td>\n",
       "      <td>POINT (878433.650 3878343.493)</td>\n",
       "      <td>878433.650475</td>\n",
       "      <td>3.878343e+06</td>\n",
       "    </tr>\n",
       "    <tr>\n",
       "      <th>92367</th>\n",
       "      <td>18926</td>\n",
       "      <td>SC</td>\n",
       "      <td>Clayey Sand</td>\n",
       "      <td>959.850031</td>\n",
       "      <td>440.000014</td>\n",
       "      <td>480.000015</td>\n",
       "      <td>POINT (878433.650 3878343.493)</td>\n",
       "      <td>878433.650475</td>\n",
       "      <td>3.878343e+06</td>\n",
       "    </tr>\n",
       "    <tr>\n",
       "      <th>92398</th>\n",
       "      <td>18926</td>\n",
       "      <td>CH/CL</td>\n",
       "      <td>Gravelly clay</td>\n",
       "      <td>959.850031</td>\n",
       "      <td>240.000008</td>\n",
       "      <td>260.000008</td>\n",
       "      <td>POINT (878433.650 3878343.493)</td>\n",
       "      <td>878433.650475</td>\n",
       "      <td>3.878343e+06</td>\n",
       "    </tr>\n",
       "    <tr>\n",
       "      <th>92397</th>\n",
       "      <td>18926</td>\n",
       "      <td>SW/SP</td>\n",
       "      <td>Sand</td>\n",
       "      <td>959.850031</td>\n",
       "      <td>1130.000036</td>\n",
       "      <td>1190.000038</td>\n",
       "      <td>POINT (878433.650 3878343.493)</td>\n",
       "      <td>878433.650475</td>\n",
       "      <td>3.878343e+06</td>\n",
       "    </tr>\n",
       "    <tr>\n",
       "      <th>92396</th>\n",
       "      <td>18926</td>\n",
       "      <td>Rock</td>\n",
       "      <td>Sedimentary</td>\n",
       "      <td>959.850031</td>\n",
       "      <td>810.000026</td>\n",
       "      <td>830.000027</td>\n",
       "      <td>POINT (878433.650 3878343.493)</td>\n",
       "      <td>878433.650475</td>\n",
       "      <td>3.878343e+06</td>\n",
       "    </tr>\n",
       "  </tbody>\n",
       "</table>\n",
       "</div>"
      ],
      "text/plain": [
       "       WCRNUMBER   USCS    DESCRIPTION      GSE_ft  INTERVALSTART  \\\n",
       "92389      18926  CH/CL  Gravelly clay  959.850031     150.000005   \n",
       "92367      18926     SC    Clayey Sand  959.850031     440.000014   \n",
       "92398      18926  CH/CL  Gravelly clay  959.850031     240.000008   \n",
       "92397      18926  SW/SP           Sand  959.850031    1130.000036   \n",
       "92396      18926   Rock    Sedimentary  959.850031     810.000026   \n",
       "\n",
       "       INTERVALEND                        geometry           UTMX  \\\n",
       "92389   210.000007  POINT (878433.650 3878343.493)  878433.650475   \n",
       "92367   480.000015  POINT (878433.650 3878343.493)  878433.650475   \n",
       "92398   260.000008  POINT (878433.650 3878343.493)  878433.650475   \n",
       "92397  1190.000038  POINT (878433.650 3878343.493)  878433.650475   \n",
       "92396   830.000027  POINT (878433.650 3878343.493)  878433.650475   \n",
       "\n",
       "               UTMY  \n",
       "92389  3.878343e+06  \n",
       "92367  3.878343e+06  \n",
       "92398  3.878343e+06  \n",
       "92397  3.878343e+06  \n",
       "92396  3.878343e+06  "
      ]
     },
     "execution_count": 12,
     "metadata": {},
     "output_type": "execute_result"
    },
    {
     "data": {
      "image/png": "[encoded data removed]",
      "text/plain": [
       "<Figure size 640x480 with 1 Axes>"
      ]
     },
     "metadata": {},
     "output_type": "display_data"
    }
   ],
   "source": [
    "# Drop columns that are no longer needed\n",
    "clipped_points.drop(columns=['X_CATEALEALBERS_m','Y_CATEALEALBERS_m' ,\n",
    "                      'LOCAL_ID1', 'LOCAL_ID2' , 'LITH_ID' , \n",
    "                       ], inplace=True)\n",
    "\n",
    "# Rename the columns\n",
    "clipped_points = clipped_points.rename(columns={\n",
    "    'WELL_INFO_ID': 'WCRNUMBER',\n",
    "    'USCS_DESCRIPTION' : 'DESCRIPTION','USCS_SYMBOL': 'USCS'})\n",
    "\n",
    "# Get the number of unique values in the 'WCRNUMBER' column\n",
    "unique_wcrnumber_count = clipped_points['WCRNUMBER'].nunique()\n",
    "print(f\"Number of unique WCRNUMBER values: {unique_wcrnumber_count}\")\n",
    "clipped_points.plot()\n",
    "clipped_points.head()\n",
    "# Display the resulting dataframe"
   ]
  },
  {
   "cell_type": "code",
   "execution_count": 18,
   "id": "19727520",
   "metadata": {},
   "outputs": [
    {
     "name": "stdout",
     "output_type": "stream",
     "text": [
      "Remaining unmatched 'USCS' values: [nan 'unknown']\n"
     ]
    }
   ],
   "source": [
    "import re\n",
    "# Load the provided Excel file\n",
    "file_path = r'C:\\Users\\betebari\\Documents\\C2VSim_Texture\\OSWCR\\USCS-averageKxy-CoarseFractions.xlsx'\n",
    "excel_data = pd.read_excel(file_path)\n",
    "\n",
    "# Strip leading/trailing spaces and convert to lowercase in 'Sediment/Rock Type' for consistency\n",
    "excel_data['Sediment/Rock Type'] = excel_data['Sediment/Rock Type'].str.strip().str.lower()\n",
    "\n",
    "# Create a dictionary mapping Soil Classification to Average Hydraulic Conductivity\n",
    "hydraulic_conductivity_mapping = dict(zip(excel_data['Sediment/Rock Type'], excel_data['Average Hydraulic Conductivity (ft/day)']))\n",
    "\n",
    "# Create a dictionary mapping Soil Classification to Average Coarse Fraction\n",
    "coarse_fraction_mapping = dict(zip(excel_data['Sediment/Rock Type'], excel_data['Average Coarse Fraction (%)']))\n",
    "\n",
    "# Create separate mappings for Specific Yield, Ss, and Kv based on the Excel data columns\n",
    "specific_yield_mapping = dict(zip(excel_data['Sediment/Rock Type'], excel_data['Avg Specific Yield (%)']))\n",
    "ss_mapping = dict(zip(excel_data['Sediment/Rock Type'], excel_data['Avg Ss (1/L)']))\n",
    "kv_mapping = dict(zip(excel_data['Sediment/Rock Type'], excel_data['Avg Kv (ft/day)']))\n",
    "\n",
    "# Clean the 'USCS' column in the merged DataFrame\n",
    "clipped_points['USCS'] = clipped_points['USCS'].str.strip().str.replace(r'[\\(\\)]', '', regex=True).str.lower()\n",
    "\n",
    "def aggregate_uscs_values(uscs_value, mapping, agg_func='average'):\n",
    "    # Handle NaN or non-string values\n",
    "    if pd.isna(uscs_value) or not isinstance(uscs_value, str):\n",
    "        return None  # You can replace None with a default value if needed\n",
    "\n",
    "    # Handle 'unknown' case\n",
    "    if 'unknown' in uscs_value:\n",
    "        return None  # Replace None with a default value, e.g., 0\n",
    "\n",
    "    # Corrected regex to handle different separators\n",
    "    uscs_classes = re.split(r'[,&/]', uscs_value)  # Adjust splitting for multiple separators\n",
    "\n",
    "    # Extract values based on mapping and apply the aggregation function\n",
    "    mapped_values = [mapping.get(uscs.strip()) for uscs in uscs_classes if uscs.strip() in mapping]\n",
    "\n",
    "    # Special case handling for 'gc-gm' and 'sc-sm'\n",
    "    if uscs_value in ['gc-gm', 'sc-sm']:\n",
    "        gc_value = mapping.get('gc', None)\n",
    "        gm_value = mapping.get('gm', None)\n",
    "        sc_value = mapping.get('sc', None)\n",
    "        sm_value = mapping.get('sm', None)\n",
    "\n",
    "        # Example logic: calculate average for 'gc-gm' or 'sc-sm'\n",
    "        if uscs_value == 'gc-gm':\n",
    "            mapped_values = [gc_value, gm_value]\n",
    "        elif uscs_value == 'sc-sm':\n",
    "            mapped_values = [sc_value, sm_value]\n",
    "\n",
    "        # Remove None values if any are missing\n",
    "        mapped_values = [val for val in mapped_values if val is not None]\n",
    "\n",
    "    # If no valid mappings are found, return None\n",
    "    if not mapped_values:\n",
    "        return None  # Or return a default value if no valid class is found\n",
    "\n",
    "    # Apply the chosen aggregation function (average, max, or min)\n",
    "    if agg_func == 'average':\n",
    "        return sum(mapped_values) / len(mapped_values)\n",
    "    elif agg_func == 'max':\n",
    "        return max(mapped_values)\n",
    "    elif agg_func == 'min':\n",
    "        return min(mapped_values)\n",
    "    \n",
    "    return None  # Default return if no valid aggregation function matches\n",
    "\n",
    "\n",
    "# Apply the enhanced function for Hydraulic Conductivity and Coarse Fraction\n",
    "clipped_points['HydraulicConductivity'] = clipped_points['USCS'].apply(lambda x: aggregate_uscs_values(x, hydraulic_conductivity_mapping, agg_func='average'))\n",
    "clipped_points['AverageCoarseFraction'] = clipped_points['USCS'].apply(lambda x: aggregate_uscs_values(x, coarse_fraction_mapping, agg_func='average'))\n",
    "clipped_points['Avg Specific Yield (%)'] = clipped_points['USCS'].apply(lambda x: aggregate_uscs_values(x, specific_yield_mapping, agg_func='average'))\n",
    "clipped_points['Avg Ss (1/L)'] = clipped_points['USCS'].apply(lambda x: aggregate_uscs_values(x, ss_mapping, agg_func='average'))\n",
    "clipped_points['Avg Kv (ft/day)'] = clipped_points['USCS'].apply(lambda x: aggregate_uscs_values(x, kv_mapping, agg_func='average'))\n",
    "\n",
    "# Check for remaining unmatched values\n",
    "unmatched_values = clipped_points[clipped_points['HydraulicConductivity'].isna()]['USCS'].unique()\n",
    "print(\"Remaining unmatched 'USCS' values:\", unmatched_values)"
   ]
  },
  {
   "cell_type": "code",
   "execution_count": 19,
   "id": "767346bf-4be4-437d-941c-23626cf13b62",
   "metadata": {},
   "outputs": [],
   "source": [
    "# Drop specified columns\n",
    "clipped_points = clipped_points.drop(columns=['geometry'])"
   ]
  },
  {
   "cell_type": "code",
   "execution_count": 20,
   "id": "ef421bf6-4b50-494e-8118-3e4af026d414",
   "metadata": {},
   "outputs": [
    {
     "name": "stdout",
     "output_type": "stream",
     "text": [
      "Updated CSV file saved as '6-updated_Ramboll_WCRs.csv'\n"
     ]
    }
   ],
   "source": [
    "# Save the updated DataFrame to a new CSV file\n",
    "output_file = '6-updated_Ramboll_WCRs.csv'\n",
    "clipped_points.to_csv(output_file, index=False)\n",
    "\n",
    "print(f\"Updated CSV file saved as '{output_file}'\")"
   ]
  },
  {
   "cell_type": "code",
   "execution_count": null,
   "id": "ac768eae",
   "metadata": {},
   "outputs": [],
   "source": []
  }
 ],
 "metadata": {
  "kernelspec": {
   "display_name": "Python 3 (ipykernel)",
   "language": "python",
   "name": "python3"
  },
  "language_info": {
   "codemirror_mode": {
    "name": "ipython",
    "version": 3
   },
   "file_extension": ".py",
   "mimetype": "text/x-python",
   "name": "python",
   "nbconvert_exporter": "python",
   "pygments_lexer": "ipython3",
   "version": "3.11.5"
  }
 },
 "nbformat": 4,
 "nbformat_minor": 5
}
